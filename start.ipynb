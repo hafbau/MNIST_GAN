%load_ext autoreload
%matplotlib inline


%autoreload 2

import test